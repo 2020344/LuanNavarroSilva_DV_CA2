{
 "cells": [
  {
   "cell_type": "markdown",
   "id": "b444788e",
   "metadata": {},
   "source": [
    "## Question 1\n",
    "\n",
    "(a) (i) Identify the differences between a graph and a tree.\n",
    "\n",
    "        The most important difference between a graph and a tree is their complexity level. The complexity of a tree is lower than of a graph due to its connected (there is exactly one path from any node to any other node in the tree)¹ and acyclic (does not contain a path that starts from a node and ends at the same node) nature. Graphs on the other hand can have cycles, making them more complex. Having cycles on a graph can lead to multiple paths between nodes, resulting in an increase of complexity.\n",
    "        Another difference between both is their root nodes. Trees have a single node called root node which is used as the starting node of a tree. Meanwhile, graphs can have multiple roots or none.\n",
    "        Due to the ordered/hierarchical nature of a tree, they are used to represent hierarchical relationships, such as the file system of a computer. Graphs due to their unordered and more complex nature are used to represent equally unordered and more complex relationships such as of those present in a social network.\n",
    "    \n",
    "(ii) Explain in detail how the graph is an abstraction of the problem.\n",
    "\n",
    "        The graph is an abstraction of the problem as it is a visual representation of the problem. The graph shows possible routes that can be taken from the starting point A to the solution S. Each node (represented by letters) represents a different stage in the problem. The lines (or paths) that connect each node represent actions from one stage of the problem to another. The numbers beside each path represent the cost or effort required to move between each stage of the problem.\n",
    "        The graph shows multiple routes from the starting point to the solution. Due to these multiple routes, the problem can be solved in multiple ways. The only difference between each solution is their directness and, some paths take longer or may cost more to reach the solution than others.\n",
    "        While there are many paths to reach the solution S from the node A, some will be more optimized than others. Usually, the ones preferred as a solution for a graph problem are the most optimized ones due to their reduced cost/effort to reach the solution.\n",
    "\n",
    "(iii) Identify the advantages of using a visualization such as the one shown in Fig. 1.\n",
    "\n",
    "        Visualizing a problem using a visualization such as the one shown can make it easier for the human brain to understand and deal with a problem. The human eye instinctively captures patterns within the graphs, complex networks visualized as graphs are naturally easier to comprehend than data sorted in the form of spreadsheets or reports.²\n",
    "        Having a visualization of a problem also means a more effective communication, as all participants can share their ideas and insights using the visualization.\n"
   ]
  },
  {
   "cell_type": "markdown",
   "id": "bc7cc4eb",
   "metadata": {},
   "source": [
    "## References\n",
    "\n",
    "1 - Weisstein, E.W. (n.d.). Connected Graph. [online] mathworld.wolfram.com. Available at: https://mathworld.wolfram.com/ConnectedGraph.html.\n",
    "\n",
    "2 - graphlytic.com. (n.d.). 6 Key Benefits of Graph Visualizations. [online] Available at: https://graphlytic.com/blog/6-key-benefits-of-graph-visualizations [Accessed 20 Oct. 2023].\n",
    "\n",
    "\n",
    "Pulptastic (2022). Difference Between Graph And Tree. [online] Pulptastic. Available at: https://pulptastic.com/difference-between-graph-and-tree/ [Accessed 18 Oct. 2023].\n",
    "\n",
    "viva (n.d.). 14 Difference Between Tree And Graph |(Tree Vs Graph) - Viva Differences. [online] Available at: https://vivadifferences.com/12-difference-between-tree-and-graph/ [Accessed 18 Oct. 2023].\n",
    "\n",
    "GeeksforGeeks. (2019). Difference between graph and tree. [online] Available at: https://www.geeksforgeeks.org/difference-between-graph-and-tree/.\n",
    "\n",
    "GeeksforGeeks. (2011). Applications of tree data structure - GeeksforGeeks. [online] Available at: https://www.geeksforgeeks.org/applications-of-tree-data-structure/.\n",
    "\n",
    "Wikipedia Contributors (2019). Graph theory. [online] Wikipedia. Available at: https://en.wikipedia.org/wiki/Graph_theory."
   ]
  }
 ],
 "metadata": {
  "kernelspec": {
   "display_name": "Python 3 (ipykernel)",
   "language": "python",
   "name": "python3"
  },
  "language_info": {
   "codemirror_mode": {
    "name": "ipython",
    "version": 3
   },
   "file_extension": ".py",
   "mimetype": "text/x-python",
   "name": "python",
   "nbconvert_exporter": "python",
   "pygments_lexer": "ipython3",
   "version": "3.11.5"
  }
 },
 "nbformat": 4,
 "nbformat_minor": 5
}
