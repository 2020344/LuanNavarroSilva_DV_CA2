{
 "cells": [
  {
   "attachments": {},
   "cell_type": "markdown",
   "id": "b444788e",
   "metadata": {},
   "source": [
    "## Question 1\n",
    "\n",
    "(a) (i) Identify the differences between a graph and a tree.\n",
    "\n",
    "    The most important difference between a graph and a tree is their complexity level. The complexity of a tree is lower than of a graph due to its connected (there is exactly one path from any node to any other node in the tree)¹ and acyclic (does not contain a path that starts from a node and ends at the same node) nature. Graphs on the other hand can have cycles, making them more complex. Having cycles on a graph can lead to multiple paths between nodes, resulting in an increase of complexity.\n",
    "    Another difference between both is their root nodes. Trees have a single node called root node which is used as the starting node of a tree. Meanwhile, graphs can have multiple roots or none.\n",
    "    Due to the ordered/hierarchical nature of a tree, they are used to represent hierarchical relationships, such as the file system of a computer. Graphs due to their unordered and more complex nature are used to represent equally unordered and more complex relationships such as of those present in a social network.\n",
    "    \n",
    "    \n"
   ]
  },
  {
   "cell_type": "markdown",
   "id": "bc7cc4eb",
   "metadata": {},
   "source": [
    "## References\n",
    "\n",
    "1 - Weisstein, E.W. (n.d.). Connected Graph. [online] mathworld.wolfram.com. Available at: https://mathworld.wolfram.com/ConnectedGraph.html.\n",
    "\n",
    "\n",
    "Pulptastic (2022). Difference Between Graph And Tree. [online] Pulptastic. Available at: https://pulptastic.com/difference-between-graph-and-tree/ [Accessed 18 Oct. 2023].\n",
    "\n",
    "viva (n.d.). 14 Difference Between Tree And Graph |(Tree Vs Graph) - Viva Differences. [online] Available at: https://vivadifferences.com/12-difference-between-tree-and-graph/ [Accessed 18 Oct. 2023].\n",
    "\n",
    "GeeksforGeeks. (2019). Difference between graph and tree. [online] Available at: https://www.geeksforgeeks.org/difference-between-graph-and-tree/.\n",
    "\n",
    "GeeksforGeeks. (2011). Applications of tree data structure - GeeksforGeeks. [online] Available at: https://www.geeksforgeeks.org/applications-of-tree-data-structure/."
   ]
  },
  {
   "cell_type": "code",
   "execution_count": null,
   "id": "c85e89fb",
   "metadata": {},
   "outputs": [],
   "source": []
  }
 ],
 "metadata": {
  "kernelspec": {
   "display_name": "Python 3 (ipykernel)",
   "language": "python",
   "name": "python3"
  },
  "language_info": {
   "codemirror_mode": {
    "name": "ipython",
    "version": 3
   },
   "file_extension": ".py",
   "mimetype": "text/x-python",
   "name": "python",
   "nbconvert_exporter": "python",
   "pygments_lexer": "ipython3",
   "version": "3.11.5"
  }
 },
 "nbformat": 4,
 "nbformat_minor": 5
}
